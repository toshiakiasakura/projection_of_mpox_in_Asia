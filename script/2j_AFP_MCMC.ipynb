{
 "cells": [
  {
   "cell_type": "code",
   "execution_count": 1,
   "id": "00125557-c995-4f60-bb91-c127931b83c2",
   "metadata": {
    "tags": []
   },
   "outputs": [],
   "source": [
    "include(\"./util.jl\")\n",
    "include(\"./distributions.jl\")\n",
    "include(\"./model.jl\")\n",
    "include(\"./model_intercountry.jl\")\n",
    "Threads.nthreads()\n",
    "theme(:ggplot2)"
   ]
  },
  {
   "cell_type": "code",
   "execution_count": 2,
   "id": "bcbbd071-9059-4783-8e5b-cfd260d70aac",
   "metadata": {},
   "outputs": [
    {
     "data": {
      "text/plain": [
       "2000"
      ]
     },
     "execution_count": 2,
     "metadata": {},
     "output_type": "execute_result"
    }
   ],
   "source": [
    "iterations = 12_000\n",
    "n_sim_samples = 10\n",
    "nparticles = 300\n",
    "n_burn=2000"
   ]
  },
  {
   "cell_type": "code",
   "execution_count": 3,
   "id": "99925146-f5b7-42e9-ad6d-970636ef6f57",
   "metadata": {},
   "outputs": [
    {
     "data": {
      "text/plain": [
       "\"../tmp_afp/natsal4w_inf14_sim_jpn.jld2\""
      ]
     },
     "execution_count": 3,
     "metadata": {},
     "output_type": "execute_result"
    }
   ],
   "source": [
    "sim_jpn_1y_IP10 = \"../tmp_afp/natsal1y_inf10_sim_jpn.jld2\"\n",
    "sim_jpn_1y_IP7 = \"../tmp_afp/natsal1y_inf7_sim_jpn.jld2\"\n",
    "sim_jpn_1y_IP14 = \"../tmp_afp/natsal1y_inf14_sim_jpn.jld2\"\n",
    "sim_jpn_4w_IP10 = \"../tmp_afp/natsal4w_inf10_sim_jpn.jld2\"\n",
    "sim_jpn_4w_IP7 = \"../tmp_afp/natsal4w_inf7_sim_jpn.jld2\"\n",
    "sim_jpn_4w_IP14 = \"../tmp_afp/natsal4w_inf14_sim_jpn.jld2\""
   ]
  },
  {
   "cell_type": "markdown",
   "id": "8b4da72e-121d-4f3b-be0a-4b106e1b961f",
   "metadata": {},
   "source": [
    "# Fit and obtain japan's trajectories"
   ]
  },
  {
   "cell_type": "code",
   "execution_count": 4,
   "id": "70a2c68f-7824-4b79-be49-07cf83bf436c",
   "metadata": {},
   "outputs": [
    {
     "name": "stderr",
     "output_type": "stream",
     "text": [
      "\u001b[32mProgress:   1%|▎                                        |  ETA: 2:53:48\u001b[39m"
     ]
    },
    {
     "name": "stdout",
     "output_type": "stream",
     "text": [
      "NetworkParams(0.3333333333333333, 0.14285714285714285, 8, 1239517, 0.025482802947441714, 0.1, 0.77, 50, 1, 14, 30802.890341152648)\n",
      "6\n",
      "[165326, 145749, 128146, 112361, 98247, 85662, 74473, 64556, 55792, 48070, 41289, 35352, 30171, 25664, 21759, 18384, 15479, 12987, 10857, 9043, 7504, 6204, 5108, 4190, 3423, 2785, 2256, 1820, 1462, 1169, 931, 738, 582, 457, 357, 277, 215, 165, 126, 96, 73, 55, 41, 31, 23, 17, 12, 9, 6, 5]\n",
      "[0, 0, 0, 0, 0, 0, 0, 0, 0, 0, 0, 0, 0, 0, 0, 0, 0, 0, 0, 0, 0, 0, 0, 0, 0, 0, 0, 0, 0, 0, 0, 0, 0, 0, 0, 0, 0, 0, 0, 0, 0, 0, 0, 0, 0, 0, 0, 0, 0, 0]\n",
      "[0, 0, 0, 0, 0, 0, 0, 0, 0, 0, 0, 0, 0, 1, 0, 0, 0, 0, 0, 0, 0, 0, 0, 0, 0, 0, 0, 0, 0, 0, 0, 0, 0, 0, 0, 0, 0, 0, 0, 0, 0, 0, 0, 0, 0, 0, 0, 0, 0, 0]\n",
      "0\n",
      "0\n",
      "0\n"
     ]
    },
    {
     "ename": "LoadError",
     "evalue": "InterruptException()",
     "output_type": "error",
     "traceback": [
      "InterruptException()",
      "",
      "Stacktrace:",
      "  [1] error(s::InterruptException)",
      "    @ Base ./error.jl:44",
      "  [2] run_sim_one_step(p::NetworkParams, model::NetworkSIRModel, t::Int64)",
      "    @ Main ~/work/script/model.jl:363",
      "  [3] update_model_1week(params::NetworkParams, model::NetworkSIRModel, t_week::Int64; memory_efficient::Bool)",
      "    @ Main ~/work/script/model.jl:252",
      "  [4] macro expansion",
      "    @ ~/work/script/model.jl:164 [inlined]",
      "  [5] macro expansion",
      "    @ ./timing.jl:382 [inlined]",
      "  [6] alive_particle_filter(p_dict::NamedTuple{(:γ1, :γ2, :I0_init, :ind0_k, :α, :κ, :β, :n_comp, :days, :N0, :θ_deno), Tuple{Float64, Float64, Int64, Int64, Float64, Float64, Float64, Int64, Int64, Int64, Float64}}, targetdata::Vector{Int64}, nparticles::Int64, pmf::Vector{Float64}, β::Float64, p0::Float64; memory_efficient::Bool, Nmax::Float64, ll_pre::Float64, u::Float64, ll_prior::Float64)",
      "    @ Main ~/work/script/model.jl:137",
      "  [7] (::var\"#loglikelihood#56\"{var\"#loglikelihood#55#57\"{NamedTuple{(:γ1, :γ2, :I0_init, :ind0_k, :α, :κ, :β, :n_comp, :days, :N0, :θ_deno), Tuple{Float64, Float64, Int64, Int64, Float64, Float64, Float64, Int64, Int64, Int64, Float64}}, Vector{Int64}, Int64, Vector{Float64}, Float64}})(β::Float64; ll_pre::Float64, u::Float64, ll_prior::Float64)",
      "    @ Main ~/work/script/model.jl:381",
      "  [8] macro expansion",
      "    @ ~/work/script/model.jl:418 [inlined]",
      "  [9] macro expansion",
      "    @ /opt/julia/packages/ProgressMeter/sN2xr/src/ProgressMeter.jl:938 [inlined]",
      " [10] custom_AFP_MH(params::NamedTuple{(:γ1, :γ2, :I0_init, :ind0_k, :α, :κ, :β, :n_comp, :days, :N0, :θ_deno), Tuple{Float64, Float64, Int64, Int64, Float64, Float64, Float64, Int64, Int64, Int64, Float64}}, targetdata::Vector{Int64}, nparticles::Int64, pmf::Vector{Float64}, p0::Float64; iterations::Int64, σ_β::Float64)",
      "    @ Main ~/work/script/model.jl:404",
      " [11] macro expansion",
      "    @ ./timing.jl:262 [inlined]",
      " [12] fit_β(; γ2::Float64, α::Float64, κ::Float64, max_ind_k::Int64, days::Int64, iterations::Int64, nparticles::Int64, file_prefix::String, σ_β::Float64)",
      "    @ Main ~/work/script/model.jl:457",
      " [13] top-level scope",
      "    @ In[4]:2"
     ]
    }
   ],
   "source": [
    "# Natsal 1y data, 10 day IP. \n",
    "path = fit_β(;\n",
    "    α=0.10, κ=0.77, γ2=1/10, \n",
    "    days=8, max_ind_k=50,\n",
    "    iterations=iterations,\n",
    "    file_prefix=\"natsal1y_posterior_inf7\",\n",
    "    σ_β=0.1,\n",
    ")"
   ]
  },
  {
   "cell_type": "code",
   "execution_count": null,
   "id": "959142b6-b4b2-4fb4-8b8c-2947e7281218",
   "metadata": {},
   "outputs": [],
   "source": [
    "# Natsal 4w data, 10 day IP. \n",
    "path = fit_β(;\n",
    "    α=0.16, κ=0.87529, γ2=1/10, \n",
    "    days=8, max_ind_k=42,\n",
    "    iterations=iterations,\n",
    "    file_prefix=\"natsal4w_posterior_inf10\",\n",
    "    σ_β=0.3,\n",
    ")"
   ]
  },
  {
   "cell_type": "code",
   "execution_count": null,
   "id": "dcec67f2-bbe2-445b-8d04-ad2a000b0b08",
   "metadata": {},
   "outputs": [],
   "source": [
    "# Natsal 4w data, 7 day IP. \n",
    "path = fit_β(;\n",
    "    α=0.16, κ=0.87529, γ2=1/7, \n",
    "    days=8, max_ind_k=42,\n",
    "    iterations=iterations,\n",
    "    file_prefix=\"natsal4w_posterior_inf10\",\n",
    "    σ_β=0.3,\n",
    ")"
   ]
  },
  {
   "cell_type": "code",
   "execution_count": null,
   "id": "eb925f29-b183-4bf7-a0fa-fd1f4347422d",
   "metadata": {},
   "outputs": [],
   "source": [
    "# Natsal 4w data, 14 day IP. \n",
    "path = fit_β(;\n",
    "    α=0.16, κ=0.87529, γ2=1/14, \n",
    "    days=8, max_ind_k=42,\n",
    "    iterations=iterations,\n",
    "    file_prefix=\"natsal4w_posterior_inf10\",\n",
    "    σ_β=0.3,\n",
    ")"
   ]
  },
  {
   "cell_type": "markdown",
   "id": "cfb47793-e97d-4f92-b5c0-46ba55a9a299",
   "metadata": {},
   "source": [
    "## Obtain Jpana's trajectories"
   ]
  },
  {
   "cell_type": "code",
   "execution_count": 6,
   "id": "1cf0077a-a746-40f3-971d-c50d6dbffc83",
   "metadata": {},
   "outputs": [
    {
     "data": {
      "text/plain": [
       "\"../tmp_afp/natsal4w_posterior_inf10_20240303_133358.jls\""
      ]
     },
     "execution_count": 6,
     "metadata": {},
     "output_type": "execute_result"
    }
   ],
   "source": [
    "path1_IP10_trace = \"../tmp_afp/natsal1y_posterior_inf10_20240127_032905.jls\"\n",
    "path5_IP10_trace = \"../tmp_afp/natsal4w_posterior_inf10_20240127_021341.jls\"\n",
    "path5_IP7_trace = \"../tmp_afp/natsal4w_posterior_inf10_20240303_140221.jls\"\n",
    "path5_IP14_trace = \"../tmp_afp/natsal4w_posterior_inf10_20240303_133358.jls\""
   ]
  },
  {
   "cell_type": "code",
   "execution_count": 7,
   "id": "7517a907-f8eb-4f11-996e-f54e3e2e0bf7",
   "metadata": {},
   "outputs": [
    {
     "data": {
      "text/plain": [
       "\"../tmp_afp/natsal1y_inf10_sim_jpn\""
      ]
     },
     "execution_count": 7,
     "metadata": {},
     "output_type": "execute_result"
    }
   ],
   "source": [
    "sim_jpn_dir_4w_IP10 = \"../tmp_afp/natsal4w_inf10_sim_jpn\"\n",
    "sim_jpn_dir_4w_IP7 = \"../tmp_afp/natsal4w_inf7_sim_jpn\"\n",
    "sim_jpn_dir_4w_IP14 = \"../tmp_afp/natsal4w_inf14_sim_jpn\"\n",
    "sim_jpn_dir_1y_IP10 = \"../tmp_afp/natsal1y_inf10_sim_jpn\""
   ]
  },
  {
   "cell_type": "code",
   "execution_count": 8,
   "id": "e46b63fe-8737-4b46-b10f-406b2b835a38",
   "metadata": {},
   "outputs": [
    {
     "data": {
      "text/plain": [
       "(n_sim_samples = 10, nparticles = 300, n_burn = 2000)"
      ]
     },
     "execution_count": 8,
     "metadata": {},
     "output_type": "execute_result"
    }
   ],
   "source": [
    "kwds = (n_sim_samples=n_sim_samples, nparticles=nparticles, n_burn=n_burn)"
   ]
  },
  {
   "cell_type": "code",
   "execution_count": 9,
   "id": "992b539f-1716-4431-a8ae-d914c6a099b6",
   "metadata": {},
   "outputs": [
    {
     "name": "stdout",
     "output_type": "stream",
     "text": [
      "Length of samples: 1000\n"
     ]
    },
    {
     "name": "stderr",
     "output_type": "stream",
     "text": [
      "\u001b[32mProgress:   0%|▏                                        |  ETA: 3:17:13\u001b[39m"
     ]
    },
    {
     "ename": "LoadError",
     "evalue": "InterruptException:",
     "output_type": "error",
     "traceback": [
      "InterruptException:",
      "",
      "Stacktrace:",
      "  [1] Array",
      "    @ ./boot.jl:459 [inlined]",
      "  [2] Array",
      "    @ ./boot.jl:468 [inlined]",
      "  [3] similar",
      "    @ ./array.jl:378 [inlined]",
      "  [4] similar",
      "    @ ./abstractarray.jl:795 [inlined]",
      "  [5] _unsafe_getindex",
      "    @ ./multidimensional.jl:887 [inlined]",
      "  [6] _getindex",
      "    @ ./multidimensional.jl:875 [inlined]",
      "  [7] getindex",
      "    @ ./abstractarray.jl:1241 [inlined]",
      "  [8] get_values(model::NetworkSIRModel, ind::Int64)",
      "    @ Main ~/work/script/model.jl:56",
      "  [9] run_sim_one_step(p::NetworkParams, model::NetworkSIRModel, t::Int64)",
      "    @ Main ~/work/script/model.jl:330",
      " [10] update_model_1week(params::NetworkParams, model::NetworkSIRModel, t_week::Int64; memory_efficient::Bool)",
      "    @ Main ~/work/script/model.jl:258",
      " [11] macro expansion",
      "    @ ~/work/script/model.jl:164 [inlined]",
      " [12] macro expansion",
      "    @ ./timing.jl:382 [inlined]",
      " [13] alive_particle_filter(p_dict::NamedTuple{(:γ1, :γ2, :I0_init, :α, :κ, :n_comp, :days, :N0, :β, :θ_deno, :ind0_k), Tuple{Float64, Float64, Int64, Float64, Float64, Int64, Int64, Int64, Float64, Float64, Int64}}, targetdata::Vector{Int64}, nparticles::Int64, pmf::Vector{Float64}, β::Float64, p0::Float64; memory_efficient::Bool, Nmax::Float64, ll_pre::Float64, u::Float64, ll_prior::Float64)",
      "    @ Main ~/work/script/model.jl:137",
      " [14] macro expansion",
      "    @ ~/work/script/model_intercountry.jl:335 [inlined]",
      " [15] macro expansion",
      "    @ /opt/julia/packages/ProgressMeter/sN2xr/src/ProgressMeter.jl:938 [inlined]",
      " [16] obtain_jpn_trajectories_for_each_β(path_APF_MH_res::String, path_dir::String; n_sim_samples::Int64, nparticles::Int64, n_thin::Int64, n_burn::Int64, n_remain::Int64)",
      "    @ Main ~/work/script/model_intercountry.jl:329",
      " [17] top-level scope",
      "    @ In[9]:2"
     ]
    }
   ],
   "source": [
    "path = path5_IP10_trace\n",
    "obtain_jpn_trajectories_for_each_β(\n",
    "    path, sim_jpn_dir_4w_IP10; kwds...\n",
    ")"
   ]
  },
  {
   "cell_type": "code",
   "execution_count": null,
   "id": "de46a4ba-9481-465d-b9a1-679ccf833991",
   "metadata": {},
   "outputs": [],
   "source": [
    "path = path1_IP10_trace\n",
    "obtain_jpn_trajectories_for_each_β(\n",
    "    path, sim_jpn_dir_1y_IP10; kwds...\n",
    ")"
   ]
  },
  {
   "cell_type": "code",
   "execution_count": null,
   "id": "ef0127d9-c6ce-4fef-a160-27ed8fe42e55",
   "metadata": {},
   "outputs": [],
   "source": [
    "path = path5_IP7_trace\n",
    "obtain_jpn_trajectories_for_each_β(\n",
    "    path, sim_jpn_dir_4w_IP7; kwds...\n",
    ")"
   ]
  },
  {
   "cell_type": "code",
   "execution_count": null,
   "id": "3dc9615f-3aa4-48dd-bff4-6e5d8f9b711a",
   "metadata": {},
   "outputs": [],
   "source": [
    "path = path5_IP14_trace\n",
    "obtain_jpn_trajectories_for_each_β(\n",
    "    path, sim_jpn_dir_4w_IP14; kwds...\n",
    ")"
   ]
  },
  {
   "cell_type": "markdown",
   "id": "96600ae7-9ea2-4b16-8ffb-8add28a58f5d",
   "metadata": {},
   "source": [
    "### Run inter-country simulations "
   ]
  },
  {
   "cell_type": "code",
   "execution_count": 10,
   "id": "8c586fc6-7d44-452c-997b-c5ee0a8d5472",
   "metadata": {},
   "outputs": [
    {
     "data": {
      "text/plain": [
       "50000"
      ]
     },
     "execution_count": 10,
     "metadata": {},
     "output_type": "execute_result"
    }
   ],
   "source": [
    "n_inter_sim = 50_000"
   ]
  },
  {
   "cell_type": "code",
   "execution_count": 15,
   "id": "8a4e3446-ad69-4e9a-9b67-96a0edb6b48f",
   "metadata": {},
   "outputs": [
    {
     "data": {
      "text/plain": [
       "quantile_importation_dates (generic function with 1 method)"
      ]
     },
     "execution_count": 15,
     "metadata": {},
     "output_type": "execute_result"
    }
   ],
   "source": [
    "include(\"model_intercountry.jl\")"
   ]
  },
  {
   "cell_type": "code",
   "execution_count": 17,
   "id": "d60e4fec-8e14-4e8a-9dae-1b5544f6967a",
   "metadata": {},
   "outputs": [
    {
     "name": "stdout",
     "output_type": "stream",
     "text": [
      "../tmp_results/20240415_201230\n"
     ]
    },
    {
     "ename": "LoadError",
     "evalue": "InterruptException:",
     "output_type": "error",
     "traceback": [
      "InterruptException:",
      "",
      "Stacktrace:",
      " [1] run_sim_one_step(p_inter::InterNetworkParams, model::InterSEIRModel, model_jpn::NetworkSIRModel, t::Int64)",
      "   @ Main ~/work/script/model_intercountry.jl:197",
      " [2] run_simulation(p_inter::InterNetworkParams, model_jpn::NetworkSIRModel; Korea_cond::Bool)",
      "   @ Main ~/work/script/model_intercountry.jl:378",
      " [3] macro expansion",
      "   @ ~/work/script/model_intercountry.jl:434 [inlined]",
      " [4] macro expansion",
      "   @ /opt/julia/packages/ProgressMeter/sN2xr/src/ProgressMeter.jl:938 [inlined]",
      " [5] run_and_save_intercountry_model(sim_jpn_dir::String; Korea_cond::Bool)",
      "   @ Main ~/work/script/model_intercountry.jl:424",
      " [6] top-level scope",
      "   @ In[17]:1"
     ]
    }
   ],
   "source": [
    "run_and_save_intercountry_model(sim_jpn_dir_4w_IP10; Korea_cond=false)"
   ]
  },
  {
   "cell_type": "code",
   "execution_count": 26,
   "id": "eb545568-2bb8-4d0b-9fda-0624c0f1b579",
   "metadata": {},
   "outputs": [
    {
     "name": "stdout",
     "output_type": "stream",
     "text": [
      "../tmp_results/20240410_214909\n"
     ]
    }
   ],
   "source": [
    "run_and_save_intercountry_model(sim_jpn_dir_1y_IP10; Korea_cond=true)"
   ]
  },
  {
   "cell_type": "code",
   "execution_count": null,
   "id": "d544153d-7ef4-4fe3-98df-7dc2b71d5132",
   "metadata": {},
   "outputs": [],
   "source": [
    "run_and_save_intercountry_model(sim_jpn_dir_4w_IP7; Korea_cond=true)"
   ]
  },
  {
   "cell_type": "code",
   "execution_count": null,
   "id": "17f4e007-b78b-4e4a-8a95-ed2425d7f2b5",
   "metadata": {},
   "outputs": [],
   "source": [
    "run_and_save_intercountry_model(sim_jpn_dir_4w_IP14; Korea_cond=true)"
   ]
  },
  {
   "cell_type": "code",
   "execution_count": null,
   "id": "3d50062a-9cbf-4c90-bacf-fd7d8cb44e79",
   "metadata": {},
   "outputs": [],
   "source": []
  },
  {
   "cell_type": "markdown",
   "id": "5678f780-8559-446b-8727-105c11175f80",
   "metadata": {},
   "source": [
    "## Thinned samples"
   ]
  },
  {
   "cell_type": "code",
   "execution_count": 18,
   "id": "53553d72-d3aa-42ca-81fb-af8f859d82b3",
   "metadata": {},
   "outputs": [
    {
     "data": {
      "text/plain": [
       "show_traceplot (generic function with 1 method)"
      ]
     },
     "execution_count": 18,
     "metadata": {},
     "output_type": "execute_result"
    }
   ],
   "source": [
    "function show_traceplot(path; n_burn=2000)\n",
    "    res_dic = deserialize(path)\n",
    "    chn = res_dic[\"chn\"]\n",
    "    # n_burn = length(chn)*0.1 |> floor |> Int64\n",
    "    chn = chn[(n_burn+1):10:end]\n",
    "    chn |> display\n",
    "    qs = quantile(chn; q=[0.025, 0.5, 0.975]) |> DataFrame\n",
    "    q025, q50, q975 = @pipe qs[1,2:4] |> values \n",
    "    q025_r, q50_r, q975_r = round.([q025, q50, q975], digits=2)\n",
    "    println(\"$(q50_r) ($(q025_r), $(q975_r))\")\n",
    "    SAR_025 = round(1 - exp(-q025), digits=3)\n",
    "    SAR_50 = round(1 - exp(-q50), digits=3)\n",
    "    SAR_975 = round(1 - exp(-q975), digits=3)\n",
    "    println(\"$(SAR_50*100) ($(SAR_025*100), $(SAR_975*100))\")\n",
    "    plot(chn, fmt=:png, left_margin=15Plots.pt, figtype=:png, bottom_margin=6Plots.mm) |> display\n",
    "end"
   ]
  },
  {
   "cell_type": "code",
   "execution_count": 19,
   "id": "b8c290a8-3038-4beb-8af0-5031c498b03e",
   "metadata": {},
   "outputs": [
    {
     "data": {
      "text/plain": [
       "Chains MCMC chain (1000×1×1 Array{Float64, 3}):\n",
       "\n",
       "Iterations        = 2001:10:11991\n",
       "Number of chains  = 1\n",
       "Samples per chain = 1000\n",
       "parameters        = β\n",
       "\n",
       "Summary Statistics\n",
       " \u001b[1m parameters  \u001b[1m    mean  \u001b[1m     std  \u001b[1m naive_se  \u001b[1m    mcse  \u001b[1m      ess  \u001b[1m    rhat\n",
       " \u001b[90m     Symbol  \u001b[90m Float64  \u001b[90m Float64  \u001b[90m  Float64  \u001b[90m Float64  \u001b[90m  Float64  \u001b[90m Float64\n",
       "\n",
       "           β    1.1540    0.4503     0.0142    0.0205   454.2778    0.9992\n",
       "\n",
       "Quantiles\n",
       " \u001b[1m parameters  \u001b[1m    2.5%  \u001b[1m   25.0%  \u001b[1m   50.0%  \u001b[1m   75.0%  \u001b[1m   97.5%\n",
       " \u001b[90m     Symbol  \u001b[90m Float64  \u001b[90m Float64  \u001b[90m Float64  \u001b[90m Float64  \u001b[90m Float64\n",
       "\n",
       "           β    0.5191    0.8323    1.0789    1.3758    2.3094\n"
      ]
     },
     "metadata": {},
     "output_type": "display_data"
    },
    {
     "name": "stdout",
     "output_type": "stream",
     "text": [
      "1.08 (0.52, 2.31)\n",
      "66.0 (40.5, 90.10000000000001)\n"
     ]
    },
    {
     "data": {
      "image/png": "[encoded data removed]"
     },
     "metadata": {},
     "output_type": "display_data"
    }
   ],
   "source": [
    "chn = show_traceplot(path5_IP10_trace)"
   ]
  },
  {
   "cell_type": "code",
   "execution_count": null,
   "id": "f63a13a0-6337-4ede-bfff-5e616d746a23",
   "metadata": {},
   "outputs": [],
   "source": [
    "chn = show_traceplot(path1_IP10_trace)"
   ]
  },
  {
   "cell_type": "code",
   "execution_count": null,
   "id": "fa29237e-146f-4a1c-9f56-03bf88388baf",
   "metadata": {},
   "outputs": [],
   "source": [
    "chn = show_traceplot(path5_IP7_trace)"
   ]
  },
  {
   "cell_type": "code",
   "execution_count": null,
   "id": "56755511-9f11-49cb-b051-a200fb88e751",
   "metadata": {},
   "outputs": [],
   "source": [
    "chn = show_traceplot(path5_IP14_trace)"
   ]
  },
  {
   "cell_type": "code",
   "execution_count": null,
   "id": "7a9d93a6-377f-4b3c-90be-f551b1efcf7d",
   "metadata": {},
   "outputs": [],
   "source": []
  }
 ],
 "metadata": {
  "kernelspec": {
   "display_name": "Julia 1.8.3",
   "language": "julia",
   "name": "julia-1.8"
  },
  "language_info": {
   "file_extension": ".jl",
   "mimetype": "application/julia",
   "name": "julia",
   "version": "1.8.3"
  }
 },
 "nbformat": 4,
 "nbformat_minor": 5
}
